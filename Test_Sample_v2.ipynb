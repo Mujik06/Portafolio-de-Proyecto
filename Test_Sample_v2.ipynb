{
 "cells": [
  {
   "cell_type": "code",
   "execution_count": 48,
   "metadata": {},
   "outputs": [],
   "source": [
    "import pandas as pd\n",
    "from nltk.tokenize import word_tokenize\n",
    "from nltk.corpus import stopwords\n",
    "from sklearn.feature_extraction.text import TfidfVectorizer\n",
    "from sklearn.neighbors import KNeighborsClassifier\n",
    "from sklearn.model_selection import train_test_split\n",
    "import os\n",
    "import torch\n",
    "from transformers import AutoTokenizer, AutoModelForSequenceClassification\n",
    "#from transformers import BertForSequenceClassification, BertTokenizer\n",
    "from sklearn.metrics.pairwise import cosine_similarity\n",
    "from sklearn.cluster import KMeans"
   ]
  },
  {
   "cell_type": "code",
   "execution_count": 49,
   "metadata": {},
   "outputs": [],
   "source": [
    "# Ruta a Carpeta de Codigos de Estudiantes y al modelo CodeBERTa\n",
    "ruta_carpeta = 'ruta\\carpeta\\ejemplos'\n",
    "ruta_modelo = 'ruta\\modelo\\preentrenado'"
   ]
  },
  {
   "cell_type": "code",
   "execution_count": 50,
   "metadata": {},
   "outputs": [],
   "source": [
    "# Inicialización de DataFrame\n",
    "data = pd.DataFrame()"
   ]
  },
  {
   "cell_type": "code",
   "execution_count": 51,
   "metadata": {},
   "outputs": [
    {
     "name": "stderr",
     "output_type": "stream",
     "text": [
      "Some weights of RobertaForSequenceClassification were not initialized from the model checkpoint at D:\\joaqu\\Material UNAB\\Tesis\\CodeBERTa and are newly initialized: ['classifier.dense.bias', 'classifier.dense.weight', 'classifier.out_proj.bias', 'classifier.out_proj.weight']\n",
      "You should probably TRAIN this model on a down-stream task to be able to use it for predictions and inference.\n"
     ]
    }
   ],
   "source": [
    "# Cargar el modelo pre-entrenado\n",
    "model = AutoModelForSequenceClassification.from_pretrained(ruta_modelo)\n",
    "tokenizer = AutoTokenizer.from_pretrained(ruta_modelo)\n",
    "\n",
    "# Cargar el modelo pre-entrenado y el tokenizador\n",
    "#model = BertForSequenceClassification.from_pretrained(ruta_modelo, num_labels=num_etiquetas)\n",
    "#tokenizer = BertTokenizer.from_pretrained(ruta_modelo)"
   ]
  },
  {
   "cell_type": "code",
   "execution_count": 52,
   "metadata": {},
   "outputs": [],
   "source": [
    "# Función de preprocesamiento\n",
    "\n",
    "def preprocesar_codigo(codigo):\n",
    "    # Limpiar código fuente\n",
    "    codigo = codigo.replace('...', '')  # Eliminar comentarios\n",
    "    codigo = codigo.replace(' ', ' ')  # Eliminar espacios en blanco\n",
    "\n",
    "    # Tokenizar código fuente\n",
    "    tokens = word_tokenize(codigo)\n",
    "\n",
    "    # Eliminar tokens irrelevantes\n",
    "    stop_words = set(stopwords.words('spanish'))\n",
    "    tokens = [token for token in tokens if token not in stop_words]\n",
    "\n",
    "    return tokens"
   ]
  },
  {
   "cell_type": "code",
   "execution_count": 53,
   "metadata": {},
   "outputs": [],
   "source": [
    "# Función de vectorización y almacenamiento\n",
    "\n",
    "def vectorizar_y_almacenar(tokens_list):\n",
    "    # Vectorizar el código con CodeBERTa\n",
    "    representaciones = []\n",
    "\n",
    "    for tokens in tokens_list:\n",
    "        inputs = tokenizer(tokens, return_tensors='pt')  # Codificar el código\n",
    "        with torch.no_grad():\n",
    "            outputs = model(**inputs)  # Obtener representaciones del modelo\n",
    "        representaciones.append(outputs.logits.squeeze(0).detach().cpu().numpy())  # Extraer representaciones\n",
    "\n",
    "    # Almacenar datos en DataFrame - FOCO DE ERROR\n",
    "    data_vectorizada = pd.DataFrame(representaciones, columns=model.config.num_labels_to_classify)\n",
    "    return data_vectorizada"
   ]
  },
  {
   "cell_type": "code",
   "execution_count": 54,
   "metadata": {},
   "outputs": [],
   "source": [
    "# Funciones de KNN\n",
    "def entrenar_modelo_knn(X_train, y_train, k):\n",
    "    # Entrenar el modelo kNN\n",
    "    knn = KNeighborsClassifier(n_neighbors=k)\n",
    "    knn.fit(X_train, y_train)\n",
    "    return knn\n",
    "\n",
    "def predecir_calificaciones(knn, X_test):\n",
    "    # Predecir las calificaciones de los estudiantes\n",
    "    y_pred = knn.predict(X_test)\n",
    "    return y_pred\n",
    "\n",
    "# Funciones de agrupamiento\n",
    "def agrupar_estudiantes(data, columna_agrupamiento):\n",
    "    # Agrupar estudiantes por columna especificada\n",
    "    grupos = data.groupby(columna_agrupamiento)\n",
    "\n",
    "    # Obtener la información de cada grupo\n",
    "    grupos_info = grupos.agg({\n",
    "        'codigo_estudiante': 'unique',\n",
    "        'calificacion': 'mean'\n",
    "    }).reset_index()\n",
    "\n",
    "    # Renombrar columnas\n",
    "    grupos_info.rename(columns={'codigo_estudiante': 'estudiantes', 'calificacion': 'calificacion_promedio'}, inplace=True)\n",
    "\n",
    "    return grupos_info"
   ]
  },
  {
   "cell_type": "code",
   "execution_count": 55,
   "metadata": {},
   "outputs": [],
   "source": [
    "# Recorrer carpeta de codigos\n",
    "tokens_list = []\n",
    "\n",
    "for archivo in os.listdir(ruta_carpeta):\n",
    "    if archivo.endswith('.py'):\n",
    "        # Leer el archivo\n",
    "        with open(os.path.join(ruta_carpeta, archivo), 'r') as f:\n",
    "            codigo = f.read()\n",
    "\n",
    "        # Preprocesar el código\n",
    "        tokens = preprocesar_codigo(codigo)\n",
    "        tokens_list.append(tokens)"
   ]
  },
  {
   "cell_type": "code",
   "execution_count": 61,
   "metadata": {},
   "outputs": [
    {
     "ename": "AttributeError",
     "evalue": "'RobertaConfig' object has no attribute 'num_labels_to_classify'",
     "output_type": "error",
     "traceback": [
      "\u001b[1;31m---------------------------------------------------------------------------\u001b[0m",
      "\u001b[1;31mAttributeError\u001b[0m                            Traceback (most recent call last)",
      "Cell \u001b[1;32mIn[61], line 2\u001b[0m\n\u001b[0;32m      1\u001b[0m \u001b[38;5;66;03m# Vectorizar y almacenar\u001b[39;00m\n\u001b[1;32m----> 2\u001b[0m data_vectorizada \u001b[38;5;241m=\u001b[39m \u001b[43mvectorizar_y_almacenar\u001b[49m\u001b[43m(\u001b[49m\u001b[43mtokens_list\u001b[49m\u001b[43m)\u001b[49m\n\u001b[0;32m      4\u001b[0m \u001b[38;5;66;03m# Unir datos con DataFrame principal\u001b[39;00m\n\u001b[0;32m      5\u001b[0m data \u001b[38;5;241m=\u001b[39m data\u001b[38;5;241m.\u001b[39mjoin(data_vectorizada)\n",
      "Cell \u001b[1;32mIn[53], line 14\u001b[0m, in \u001b[0;36mvectorizar_y_almacenar\u001b[1;34m(tokens_list)\u001b[0m\n\u001b[0;32m     11\u001b[0m     representaciones\u001b[38;5;241m.\u001b[39mappend(outputs\u001b[38;5;241m.\u001b[39mlogits\u001b[38;5;241m.\u001b[39msqueeze(\u001b[38;5;241m0\u001b[39m)\u001b[38;5;241m.\u001b[39mdetach()\u001b[38;5;241m.\u001b[39mcpu()\u001b[38;5;241m.\u001b[39mnumpy())  \u001b[38;5;66;03m# Extraer representaciones\u001b[39;00m\n\u001b[0;32m     13\u001b[0m \u001b[38;5;66;03m# Almacenar datos en DataFrame - FOCO DE ERROR\u001b[39;00m\n\u001b[1;32m---> 14\u001b[0m data_vectorizada \u001b[38;5;241m=\u001b[39m pd\u001b[38;5;241m.\u001b[39mDataFrame(representaciones, columns\u001b[38;5;241m=\u001b[39m\u001b[43mmodel\u001b[49m\u001b[38;5;241;43m.\u001b[39;49m\u001b[43mconfig\u001b[49m\u001b[38;5;241;43m.\u001b[39;49m\u001b[43mnum_labels_to_classify\u001b[49m)\n\u001b[0;32m     15\u001b[0m \u001b[38;5;28;01mreturn\u001b[39;00m data_vectorizada\n",
      "File \u001b[1;32mc:\\Users\\joaqu\\AppData\\Local\\Programs\\Python\\Python310\\lib\\site-packages\\transformers\\configuration_utils.py:263\u001b[0m, in \u001b[0;36mPretrainedConfig.__getattribute__\u001b[1;34m(self, key)\u001b[0m\n\u001b[0;32m    261\u001b[0m \u001b[38;5;28;01mif\u001b[39;00m key \u001b[38;5;241m!=\u001b[39m \u001b[38;5;124m\"\u001b[39m\u001b[38;5;124mattribute_map\u001b[39m\u001b[38;5;124m\"\u001b[39m \u001b[38;5;129;01mand\u001b[39;00m key \u001b[38;5;129;01min\u001b[39;00m \u001b[38;5;28msuper\u001b[39m()\u001b[38;5;241m.\u001b[39m\u001b[38;5;21m__getattribute__\u001b[39m(\u001b[38;5;124m\"\u001b[39m\u001b[38;5;124mattribute_map\u001b[39m\u001b[38;5;124m\"\u001b[39m):\n\u001b[0;32m    262\u001b[0m     key \u001b[38;5;241m=\u001b[39m \u001b[38;5;28msuper\u001b[39m()\u001b[38;5;241m.\u001b[39m\u001b[38;5;21m__getattribute__\u001b[39m(\u001b[38;5;124m\"\u001b[39m\u001b[38;5;124mattribute_map\u001b[39m\u001b[38;5;124m\"\u001b[39m)[key]\n\u001b[1;32m--> 263\u001b[0m \u001b[38;5;28;01mreturn\u001b[39;00m \u001b[38;5;28;43msuper\u001b[39;49m\u001b[43m(\u001b[49m\u001b[43m)\u001b[49m\u001b[38;5;241;43m.\u001b[39;49m\u001b[38;5;21;43m__getattribute__\u001b[39;49m\u001b[43m(\u001b[49m\u001b[43mkey\u001b[49m\u001b[43m)\u001b[49m\n",
      "\u001b[1;31mAttributeError\u001b[0m: 'RobertaConfig' object has no attribute 'num_labels_to_classify'"
     ]
    }
   ],
   "source": [
    "# Vectorizar y almacenar\n",
    "data_vectorizada = vectorizar_y_almacenar(tokens_list)\n",
    "\n",
    "# Unir datos con DataFrame principal\n",
    "data = data.join(data_vectorizada)"
   ]
  },
  {
   "cell_type": "code",
   "execution_count": null,
   "metadata": {},
   "outputs": [],
   "source": [
    "# Visualización de resultados\n",
    "data.groupby('calificacion')['codigo_preprocesado'].apply(list).head()"
   ]
  },
  {
   "cell_type": "code",
   "execution_count": null,
   "metadata": {},
   "outputs": [],
   "source": [
    "# Parámetros de KNN\n",
    "k = 5  # Definir el valor de k\n",
    "\n",
    "# Entrenamiento del modelo kNN\n",
    "X_train, X_test, y_train, y_test = train_test_split(data_vectorizada, data['calificacion'], test_size=0.2)\n",
    "knn = entrenar_modelo_knn(X_train, y_train, k)"
   ]
  },
  {
   "cell_type": "code",
   "execution_count": null,
   "metadata": {},
   "outputs": [],
   "source": [
    "# Predicción de calificaciones\n",
    "y_pred = predecir_calificaciones(knn, X_test)"
   ]
  },
  {
   "cell_type": "code",
   "execution_count": null,
   "metadata": {},
   "outputs": [],
   "source": [
    "# Agrupamiento de estudiantes\n",
    "columna_agrupamiento = 'grupo'  # Definir la columna de agrupamiento\n",
    "grupos_info = agrupar_estudiantes(data, columna_agrupamiento)"
   ]
  }
 ],
 "metadata": {
  "kernelspec": {
   "display_name": "Python 3",
   "language": "python",
   "name": "python3"
  },
  "language_info": {
   "codemirror_mode": {
    "name": "ipython",
    "version": 3
   },
   "file_extension": ".py",
   "mimetype": "text/x-python",
   "name": "python",
   "nbconvert_exporter": "python",
   "pygments_lexer": "ipython3",
   "version": "3.10.10"
  }
 },
 "nbformat": 4,
 "nbformat_minor": 2
}
